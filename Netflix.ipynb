{
 "cells": [
  {
   "cell_type": "markdown",
   "id": "eb4f2cb3-47e2-451a-80af-5913c700308e",
   "metadata": {},
   "source": [
    "<h2>Create CSV file for Netflix User</h2>"
   ]
  },
  {
   "cell_type": "code",
   "execution_count": 2,
   "id": "da3f00fa-9d60-44b1-a6ba-ad34c9f62dc0",
   "metadata": {},
   "outputs": [],
   "source": [
    "import pandas as pd\n",
    "import numpy as np"
   ]
  },
  {
   "cell_type": "code",
   "execution_count": 4,
   "id": "152845d2-3dea-4e62-8a5f-12529f19b662",
   "metadata": {},
   "outputs": [],
   "source": [
    "num_rows = 12321\n",
    "\n",
    "# Create a DataFrame with the specified column names and random data\n",
    "data = {\n",
    "    'Age': np.random.randint(18, 71, num_rows),\n",
    "    'Gender': np.random.choice(['Male', 'Female'], num_rows),\n",
    "    'Plan': np.random.choice(['Mobile', 'Basic', 'Standard', 'Premium'], num_rows),\n",
    "    'Payment Method': np.random.choice(['Upi', 'Card', 'Net Banking', 'E-Wallet'], num_rows),\n",
    "    'User Fav Genre': np.random.choice(['Drama', 'Comedy', 'Action', 'Horror', 'Documentary', 'Thriller', 'Romance'], num_rows),\n",
    "    'Watch Hour / month': np.random.uniform(180, 210, num_rows),\n",
    "    'Satisfaction Rate': np.random.uniform(1.0, 5.0, num_rows),\n",
    "}\n",
    "\n",
    "# Convert the dictionary to a DataFrame\n",
    "df = pd.DataFrame(data)"
   ]
  },
  {
   "cell_type": "code",
   "execution_count": 6,
   "id": "285ef082-a4f1-47c4-a502-8e6affa49f8a",
   "metadata": {},
   "outputs": [
    {
     "data": {
      "text/html": [
       "<div>\n",
       "<style scoped>\n",
       "    .dataframe tbody tr th:only-of-type {\n",
       "        vertical-align: middle;\n",
       "    }\n",
       "\n",
       "    .dataframe tbody tr th {\n",
       "        vertical-align: top;\n",
       "    }\n",
       "\n",
       "    .dataframe thead th {\n",
       "        text-align: right;\n",
       "    }\n",
       "</style>\n",
       "<table border=\"1\" class=\"dataframe\">\n",
       "  <thead>\n",
       "    <tr style=\"text-align: right;\">\n",
       "      <th></th>\n",
       "      <th>Age</th>\n",
       "      <th>Gender</th>\n",
       "      <th>Plan</th>\n",
       "      <th>Payment Method</th>\n",
       "      <th>User Fav Genre</th>\n",
       "      <th>Watch Hour / month</th>\n",
       "      <th>Satisfaction Rate</th>\n",
       "    </tr>\n",
       "  </thead>\n",
       "  <tbody>\n",
       "    <tr>\n",
       "      <th>0</th>\n",
       "      <td>62</td>\n",
       "      <td>Male</td>\n",
       "      <td>Premium</td>\n",
       "      <td>E-Wallet</td>\n",
       "      <td>Comedy</td>\n",
       "      <td>191.554580</td>\n",
       "      <td>4.932150</td>\n",
       "    </tr>\n",
       "    <tr>\n",
       "      <th>1</th>\n",
       "      <td>37</td>\n",
       "      <td>Female</td>\n",
       "      <td>Premium</td>\n",
       "      <td>Net Banking</td>\n",
       "      <td>Horror</td>\n",
       "      <td>206.383066</td>\n",
       "      <td>1.791589</td>\n",
       "    </tr>\n",
       "    <tr>\n",
       "      <th>2</th>\n",
       "      <td>49</td>\n",
       "      <td>Female</td>\n",
       "      <td>Premium</td>\n",
       "      <td>Net Banking</td>\n",
       "      <td>Action</td>\n",
       "      <td>194.330794</td>\n",
       "      <td>4.496868</td>\n",
       "    </tr>\n",
       "    <tr>\n",
       "      <th>3</th>\n",
       "      <td>38</td>\n",
       "      <td>Female</td>\n",
       "      <td>Standard</td>\n",
       "      <td>E-Wallet</td>\n",
       "      <td>Drama</td>\n",
       "      <td>194.012003</td>\n",
       "      <td>1.642422</td>\n",
       "    </tr>\n",
       "    <tr>\n",
       "      <th>4</th>\n",
       "      <td>35</td>\n",
       "      <td>Male</td>\n",
       "      <td>Premium</td>\n",
       "      <td>Card</td>\n",
       "      <td>Romance</td>\n",
       "      <td>192.464123</td>\n",
       "      <td>1.363505</td>\n",
       "    </tr>\n",
       "  </tbody>\n",
       "</table>\n",
       "</div>"
      ],
      "text/plain": [
       "   Age  Gender      Plan Payment Method User Fav Genre  Watch Hour / month  \\\n",
       "0   62    Male   Premium       E-Wallet         Comedy          191.554580   \n",
       "1   37  Female   Premium    Net Banking         Horror          206.383066   \n",
       "2   49  Female   Premium    Net Banking         Action          194.330794   \n",
       "3   38  Female  Standard       E-Wallet          Drama          194.012003   \n",
       "4   35    Male   Premium           Card        Romance          192.464123   \n",
       "\n",
       "   Satisfaction Rate  \n",
       "0           4.932150  \n",
       "1           1.791589  \n",
       "2           4.496868  \n",
       "3           1.642422  \n",
       "4           1.363505  "
      ]
     },
     "execution_count": 6,
     "metadata": {},
     "output_type": "execute_result"
    }
   ],
   "source": [
    "df.head()"
   ]
  },
  {
   "cell_type": "code",
   "execution_count": 8,
   "id": "0fc87329-8377-4bff-b12a-93b73348c760",
   "metadata": {},
   "outputs": [
    {
     "name": "stdout",
     "output_type": "stream",
     "text": [
      "<class 'pandas.core.frame.DataFrame'>\n",
      "RangeIndex: 12321 entries, 0 to 12320\n",
      "Data columns (total 7 columns):\n",
      " #   Column              Non-Null Count  Dtype  \n",
      "---  ------              --------------  -----  \n",
      " 0   Age                 12321 non-null  int64  \n",
      " 1   Gender              12321 non-null  object \n",
      " 2   Plan                12321 non-null  object \n",
      " 3   Payment Method      12321 non-null  object \n",
      " 4   User Fav Genre      12321 non-null  object \n",
      " 5   Watch Hour / month  12321 non-null  float64\n",
      " 6   Satisfaction Rate   12321 non-null  float64\n",
      "dtypes: float64(2), int64(1), object(4)\n",
      "memory usage: 673.9+ KB\n"
     ]
    }
   ],
   "source": [
    "df.info()"
   ]
  },
  {
   "cell_type": "code",
   "execution_count": 10,
   "id": "f473cc24-67b6-4033-ab16-00a4763db190",
   "metadata": {},
   "outputs": [
    {
     "data": {
      "text/plain": [
       "(12321, 7)"
      ]
     },
     "execution_count": 10,
     "metadata": {},
     "output_type": "execute_result"
    }
   ],
   "source": [
    "df.shape"
   ]
  },
  {
   "cell_type": "code",
   "execution_count": 12,
   "id": "9535f804-4b5b-4ce4-99cb-1b577d8b51c8",
   "metadata": {},
   "outputs": [],
   "source": [
    "df.to_csv('netflix_user_data.csv')"
   ]
  },
  {
   "cell_type": "markdown",
   "id": "b2d32ac4-7f83-4038-829c-e289acbb4477",
   "metadata": {},
   "source": [
    "<h2>Create CSV file for Netflix Revenue</h2>"
   ]
  },
  {
   "cell_type": "code",
   "execution_count": 15,
   "id": "83049863-8a91-4d57-80c0-d74e902773c0",
   "metadata": {},
   "outputs": [],
   "source": [
    "num_rows = 12321\n",
    "\n",
    "# Create a DataFrame with the specified column names and random data\n",
    "data = {\n",
    "    'Month': np.random.choice(['Jan', 'Feb', 'Mar', 'Apr', 'May', 'Jun', 'Jul', 'Aug', 'Sep', 'Oct', 'Nov', 'Dec'], num_rows),\n",
    "    'Rating': np.random.choice([1, 2, 3, 4, 5], num_rows),\n",
    "    'Type': np.random.choice(['Movie', 'Series', 'Tv Show'], num_rows),\n",
    "    'Device Type': np.random.choice(['Mobile', 'Smart Tv', 'Tablet'], num_rows),\n",
    "    'Country': np.random.choice(['USA', 'India', 'UK', 'Canada', 'Germany', 'Australia', 'Japan', 'Brazil', 'France', 'South Korea'], num_rows),\n",
    "    'Subscribers': np.random.randint(70000000, 80000001, num_rows),\n",
    "    'Total Revenue': np.random.uniform(220000000, 240000000, num_rows),\n",
    "}\n",
    "\n",
    "# Convert the dictionary to a DataFrame\n",
    "df = pd.DataFrame(data)"
   ]
  },
  {
   "cell_type": "code",
   "execution_count": 17,
   "id": "b1060017-c969-419c-a60d-1084647cc39e",
   "metadata": {},
   "outputs": [
    {
     "data": {
      "text/html": [
       "<div>\n",
       "<style scoped>\n",
       "    .dataframe tbody tr th:only-of-type {\n",
       "        vertical-align: middle;\n",
       "    }\n",
       "\n",
       "    .dataframe tbody tr th {\n",
       "        vertical-align: top;\n",
       "    }\n",
       "\n",
       "    .dataframe thead th {\n",
       "        text-align: right;\n",
       "    }\n",
       "</style>\n",
       "<table border=\"1\" class=\"dataframe\">\n",
       "  <thead>\n",
       "    <tr style=\"text-align: right;\">\n",
       "      <th></th>\n",
       "      <th>Month</th>\n",
       "      <th>Rating</th>\n",
       "      <th>Type</th>\n",
       "      <th>Device Type</th>\n",
       "      <th>Country</th>\n",
       "      <th>Subscribers</th>\n",
       "      <th>Total Revenue</th>\n",
       "    </tr>\n",
       "  </thead>\n",
       "  <tbody>\n",
       "    <tr>\n",
       "      <th>0</th>\n",
       "      <td>Feb</td>\n",
       "      <td>4</td>\n",
       "      <td>Series</td>\n",
       "      <td>Mobile</td>\n",
       "      <td>Canada</td>\n",
       "      <td>73363299</td>\n",
       "      <td>2.260020e+08</td>\n",
       "    </tr>\n",
       "    <tr>\n",
       "      <th>1</th>\n",
       "      <td>Jan</td>\n",
       "      <td>1</td>\n",
       "      <td>Tv Show</td>\n",
       "      <td>Mobile</td>\n",
       "      <td>Japan</td>\n",
       "      <td>78617964</td>\n",
       "      <td>2.328484e+08</td>\n",
       "    </tr>\n",
       "    <tr>\n",
       "      <th>2</th>\n",
       "      <td>May</td>\n",
       "      <td>2</td>\n",
       "      <td>Tv Show</td>\n",
       "      <td>Smart Tv</td>\n",
       "      <td>South Korea</td>\n",
       "      <td>77326284</td>\n",
       "      <td>2.212436e+08</td>\n",
       "    </tr>\n",
       "    <tr>\n",
       "      <th>3</th>\n",
       "      <td>Sep</td>\n",
       "      <td>5</td>\n",
       "      <td>Tv Show</td>\n",
       "      <td>Smart Tv</td>\n",
       "      <td>India</td>\n",
       "      <td>73842732</td>\n",
       "      <td>2.337436e+08</td>\n",
       "    </tr>\n",
       "    <tr>\n",
       "      <th>4</th>\n",
       "      <td>Oct</td>\n",
       "      <td>4</td>\n",
       "      <td>Series</td>\n",
       "      <td>Mobile</td>\n",
       "      <td>France</td>\n",
       "      <td>79140678</td>\n",
       "      <td>2.293062e+08</td>\n",
       "    </tr>\n",
       "  </tbody>\n",
       "</table>\n",
       "</div>"
      ],
      "text/plain": [
       "  Month  Rating     Type Device Type      Country  Subscribers  Total Revenue\n",
       "0   Feb       4   Series      Mobile       Canada     73363299   2.260020e+08\n",
       "1   Jan       1  Tv Show      Mobile        Japan     78617964   2.328484e+08\n",
       "2   May       2  Tv Show    Smart Tv  South Korea     77326284   2.212436e+08\n",
       "3   Sep       5  Tv Show    Smart Tv        India     73842732   2.337436e+08\n",
       "4   Oct       4   Series      Mobile       France     79140678   2.293062e+08"
      ]
     },
     "execution_count": 17,
     "metadata": {},
     "output_type": "execute_result"
    }
   ],
   "source": [
    "df.head()"
   ]
  },
  {
   "cell_type": "code",
   "execution_count": 19,
   "id": "2782eb9d-6c03-47fa-87cf-ce0b0cc23923",
   "metadata": {},
   "outputs": [
    {
     "name": "stdout",
     "output_type": "stream",
     "text": [
      "<class 'pandas.core.frame.DataFrame'>\n",
      "RangeIndex: 12321 entries, 0 to 12320\n",
      "Data columns (total 7 columns):\n",
      " #   Column         Non-Null Count  Dtype  \n",
      "---  ------         --------------  -----  \n",
      " 0   Month          12321 non-null  object \n",
      " 1   Rating         12321 non-null  int64  \n",
      " 2   Type           12321 non-null  object \n",
      " 3   Device Type    12321 non-null  object \n",
      " 4   Country        12321 non-null  object \n",
      " 5   Subscribers    12321 non-null  int64  \n",
      " 6   Total Revenue  12321 non-null  float64\n",
      "dtypes: float64(1), int64(2), object(4)\n",
      "memory usage: 673.9+ KB\n"
     ]
    }
   ],
   "source": [
    "df.info()"
   ]
  },
  {
   "cell_type": "code",
   "execution_count": 21,
   "id": "55941979-00d3-4f53-be50-8d65909963d1",
   "metadata": {},
   "outputs": [
    {
     "data": {
      "text/plain": [
       "(12321, 7)"
      ]
     },
     "execution_count": 21,
     "metadata": {},
     "output_type": "execute_result"
    }
   ],
   "source": [
    "df.shape"
   ]
  },
  {
   "cell_type": "code",
   "execution_count": 23,
   "id": "e5f76b1f-850c-4cf9-a0c9-44fb1d435463",
   "metadata": {},
   "outputs": [],
   "source": [
    "df.to_csv('netflix_revenue_data.csv')"
   ]
  }
 ],
 "metadata": {
  "kernelspec": {
   "display_name": "Python 3 (ipykernel)",
   "language": "python",
   "name": "python3"
  },
  "language_info": {
   "codemirror_mode": {
    "name": "ipython",
    "version": 3
   },
   "file_extension": ".py",
   "mimetype": "text/x-python",
   "name": "python",
   "nbconvert_exporter": "python",
   "pygments_lexer": "ipython3",
   "version": "3.12.4"
  }
 },
 "nbformat": 4,
 "nbformat_minor": 5
}
